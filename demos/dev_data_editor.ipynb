{
 "cells": [
  {
   "cell_type": "code",
   "execution_count": 25,
   "id": "0c6add58",
   "metadata": {},
   "outputs": [],
   "source": [
    "import duckdb\n",
    "from pathlib import Path "
   ]
  },
  {
   "cell_type": "code",
   "execution_count": 26,
   "id": "588025f9",
   "metadata": {},
   "outputs": [
    {
     "data": {
      "text/plain": [
       "'0.7.1'"
      ]
     },
     "execution_count": 26,
     "metadata": {},
     "output_type": "execute_result"
    }
   ],
   "source": [
    "duckdb.__version__"
   ]
  },
  {
   "cell_type": "code",
   "execution_count": 2,
   "id": "a296f4fd",
   "metadata": {},
   "outputs": [],
   "source": [
    "INPUT_FILENAME = \"data/languages.csv\"\n",
    "DB_FILENAME = \"languages.duckdb\""
   ]
  },
  {
   "cell_type": "code",
   "execution_count": 4,
   "id": "7091c0e1",
   "metadata": {},
   "outputs": [],
   "source": [
    "p = Path(INPUT_FILENAME)"
   ]
  },
  {
   "cell_type": "code",
   "execution_count": 6,
   "id": "39ce47b6",
   "metadata": {},
   "outputs": [
    {
     "data": {
      "text/plain": [
       "('languages.csv', 'languages')"
      ]
     },
     "execution_count": 6,
     "metadata": {},
     "output_type": "execute_result"
    }
   ],
   "source": [
    "p.name, p.stem"
   ]
  },
  {
   "cell_type": "code",
   "execution_count": 7,
   "id": "ce9d0457",
   "metadata": {},
   "outputs": [
    {
     "data": {
      "text/plain": [
       "True"
      ]
     },
     "execution_count": 7,
     "metadata": {},
     "output_type": "execute_result"
    }
   ],
   "source": [
    "p.exists()"
   ]
  },
  {
   "cell_type": "code",
   "execution_count": 8,
   "id": "425a9e6f",
   "metadata": {},
   "outputs": [],
   "source": [
    "conn = duckdb.connect(DB_FILENAME)"
   ]
  },
  {
   "cell_type": "code",
   "execution_count": 9,
   "id": "23feff60",
   "metadata": {},
   "outputs": [
    {
     "data": {
      "text/plain": [
       "'languages'"
      ]
     },
     "execution_count": 9,
     "metadata": {},
     "output_type": "execute_result"
    }
   ],
   "source": [
    "TABLE_NAME = (Path(INPUT_FILENAME).stem).lower()\n",
    "TABLE_NAME"
   ]
  },
  {
   "cell_type": "code",
   "execution_count": 22,
   "id": "039ff890",
   "metadata": {},
   "outputs": [],
   "source": [
    "try: \n",
    "    conn.execute(f\"select count(*) from {TABLE_NAME}\")\n",
    "except Exception as e:\n",
    "    # print(str(e))\n",
    "    if \"Catalog Error: Table\" in str(e):\n",
    "        conn.execute(f\"\"\"\n",
    "            CREATE TABLE {TABLE_NAME} AS select * from read_csv_auto('{p}');\n",
    "        \"\"\")\n",
    "\n",
    "df = conn.execute(f\"select * from {TABLE_NAME}\").fetchdf()"
   ]
  },
  {
   "cell_type": "code",
   "execution_count": 23,
   "id": "9c768a41",
   "metadata": {},
   "outputs": [
    {
     "data": {
      "text/html": [
       "<div>\n",
       "<style scoped>\n",
       "    .dataframe tbody tr th:only-of-type {\n",
       "        vertical-align: middle;\n",
       "    }\n",
       "\n",
       "    .dataframe tbody tr th {\n",
       "        vertical-align: top;\n",
       "    }\n",
       "\n",
       "    .dataframe thead th {\n",
       "        text-align: right;\n",
       "    }\n",
       "</style>\n",
       "<table border=\"1\" class=\"dataframe\">\n",
       "  <thead>\n",
       "    <tr style=\"text-align: right;\">\n",
       "      <th></th>\n",
       "      <th>name</th>\n",
       "      <th>code</th>\n",
       "      <th>num_speakers</th>\n",
       "      <th>family</th>\n",
       "      <th>branch</th>\n",
       "      <th>url</th>\n",
       "      <th>description</th>\n",
       "      <th>note</th>\n",
       "      <th>name_native</th>\n",
       "      <th>is_natural</th>\n",
       "      <th>is_active</th>\n",
       "    </tr>\n",
       "  </thead>\n",
       "  <tbody>\n",
       "    <tr>\n",
       "      <th>0</th>\n",
       "      <td>Mandarin Chinese</td>\n",
       "      <td>zh</td>\n",
       "      <td>939.0</td>\n",
       "      <td>Sino-Tibetan</td>\n",
       "      <td>Sinitic</td>\n",
       "      <td>https://en.wikipedia.org/wiki/Mandarin_Chinese</td>\n",
       "      <td>NaN</td>\n",
       "      <td>NaN</td>\n",
       "      <td>中文 汉语</td>\n",
       "      <td>1.0</td>\n",
       "      <td>0.0</td>\n",
       "    </tr>\n",
       "    <tr>\n",
       "      <th>1</th>\n",
       "      <td>Spanish</td>\n",
       "      <td>es</td>\n",
       "      <td>485.0</td>\n",
       "      <td>Indo-European</td>\n",
       "      <td>Romance</td>\n",
       "      <td>https://en.wikipedia.org/wiki/ISO_639:spa</td>\n",
       "      <td>NaN</td>\n",
       "      <td>NaN</td>\n",
       "      <td>español</td>\n",
       "      <td>1.0</td>\n",
       "      <td>0.0</td>\n",
       "    </tr>\n",
       "    <tr>\n",
       "      <th>2</th>\n",
       "      <td>English</td>\n",
       "      <td>en</td>\n",
       "      <td>380.0</td>\n",
       "      <td>Indo-European</td>\n",
       "      <td>Germanic</td>\n",
       "      <td>https://en.wikipedia.org/wiki/ISO_639:eng</td>\n",
       "      <td>NaN</td>\n",
       "      <td>NaN</td>\n",
       "      <td>English</td>\n",
       "      <td>1.0</td>\n",
       "      <td>0.0</td>\n",
       "    </tr>\n",
       "    <tr>\n",
       "      <th>3</th>\n",
       "      <td>Russian</td>\n",
       "      <td>ru</td>\n",
       "      <td>147.0</td>\n",
       "      <td>Indo-European</td>\n",
       "      <td>Balto-Slavic</td>\n",
       "      <td>https://en.wikipedia.org/wiki/ISO_639:rus</td>\n",
       "      <td>NaN</td>\n",
       "      <td>NaN</td>\n",
       "      <td>русский язык</td>\n",
       "      <td>1.0</td>\n",
       "      <td>0.0</td>\n",
       "    </tr>\n",
       "    <tr>\n",
       "      <th>4</th>\n",
       "      <td>French</td>\n",
       "      <td>fr</td>\n",
       "      <td>80.8</td>\n",
       "      <td>Indo-European</td>\n",
       "      <td>Romance</td>\n",
       "      <td>https://en.wikipedia.org/wiki/ISO_639:fra</td>\n",
       "      <td>NaN</td>\n",
       "      <td>NaN</td>\n",
       "      <td>français</td>\n",
       "      <td>1.0</td>\n",
       "      <td>0.0</td>\n",
       "    </tr>\n",
       "    <tr>\n",
       "      <th>5</th>\n",
       "      <td>Arabic</td>\n",
       "      <td>ar</td>\n",
       "      <td>NaN</td>\n",
       "      <td>NaN</td>\n",
       "      <td>NaN</td>\n",
       "      <td>https://en.wikipedia.org/wiki/Arabic</td>\n",
       "      <td>NaN</td>\n",
       "      <td>NaN</td>\n",
       "      <td>العربية</td>\n",
       "      <td>1.0</td>\n",
       "      <td>0.0</td>\n",
       "    </tr>\n",
       "    <tr>\n",
       "      <th>6</th>\n",
       "      <td>Python</td>\n",
       "      <td>python</td>\n",
       "      <td>2.0</td>\n",
       "      <td>System</td>\n",
       "      <td>scripting</td>\n",
       "      <td>https://www.python.org/</td>\n",
       "      <td>NaN</td>\n",
       "      <td>NaN</td>\n",
       "      <td>NaN</td>\n",
       "      <td>0.0</td>\n",
       "      <td>0.0</td>\n",
       "    </tr>\n",
       "    <tr>\n",
       "      <th>7</th>\n",
       "      <td>Java</td>\n",
       "      <td>java</td>\n",
       "      <td>NaN</td>\n",
       "      <td>System</td>\n",
       "      <td>compiled</td>\n",
       "      <td>https://en.wikipedia.org/wiki/Java_(programmin...</td>\n",
       "      <td>NaN</td>\n",
       "      <td>NaN</td>\n",
       "      <td>NaN</td>\n",
       "      <td>NaN</td>\n",
       "      <td>NaN</td>\n",
       "    </tr>\n",
       "  </tbody>\n",
       "</table>\n",
       "</div>"
      ],
      "text/plain": [
       "               name    code  num_speakers         family        branch  \\\n",
       "0  Mandarin Chinese      zh         939.0   Sino-Tibetan       Sinitic   \n",
       "1           Spanish      es         485.0  Indo-European       Romance   \n",
       "2           English      en         380.0  Indo-European      Germanic   \n",
       "3           Russian      ru         147.0  Indo-European  Balto-Slavic   \n",
       "4            French      fr          80.8  Indo-European       Romance   \n",
       "5            Arabic      ar           NaN            NaN           NaN   \n",
       "6            Python  python           2.0         System     scripting   \n",
       "7              Java    java           NaN         System      compiled   \n",
       "\n",
       "                                                 url description note  \\\n",
       "0     https://en.wikipedia.org/wiki/Mandarin_Chinese         NaN  NaN   \n",
       "1          https://en.wikipedia.org/wiki/ISO_639:spa         NaN  NaN   \n",
       "2          https://en.wikipedia.org/wiki/ISO_639:eng         NaN  NaN   \n",
       "3          https://en.wikipedia.org/wiki/ISO_639:rus         NaN  NaN   \n",
       "4          https://en.wikipedia.org/wiki/ISO_639:fra         NaN  NaN   \n",
       "5               https://en.wikipedia.org/wiki/Arabic         NaN  NaN   \n",
       "6                            https://www.python.org/         NaN  NaN   \n",
       "7  https://en.wikipedia.org/wiki/Java_(programmin...         NaN  NaN   \n",
       "\n",
       "    name_native  is_natural  is_active  \n",
       "0         中文 汉语         1.0        0.0  \n",
       "1       español         1.0        0.0  \n",
       "2       English         1.0        0.0  \n",
       "3  русский язык         1.0        0.0  \n",
       "4      français         1.0        0.0  \n",
       "5       العربية         1.0        0.0  \n",
       "6           NaN         0.0        0.0  \n",
       "7           NaN         NaN        NaN  "
      ]
     },
     "execution_count": 23,
     "metadata": {},
     "output_type": "execute_result"
    }
   ],
   "source": [
    "df"
   ]
  },
  {
   "cell_type": "code",
   "execution_count": 17,
   "id": "30de1e7f",
   "metadata": {},
   "outputs": [],
   "source": [
    "df = conn.execute(f\"select * from read_csv_auto('{p}')\").fetchdf()"
   ]
  },
  {
   "cell_type": "code",
   "execution_count": 18,
   "id": "b07ecf33",
   "metadata": {},
   "outputs": [
    {
     "data": {
      "text/html": [
       "<div>\n",
       "<style scoped>\n",
       "    .dataframe tbody tr th:only-of-type {\n",
       "        vertical-align: middle;\n",
       "    }\n",
       "\n",
       "    .dataframe tbody tr th {\n",
       "        vertical-align: top;\n",
       "    }\n",
       "\n",
       "    .dataframe thead th {\n",
       "        text-align: right;\n",
       "    }\n",
       "</style>\n",
       "<table border=\"1\" class=\"dataframe\">\n",
       "  <thead>\n",
       "    <tr style=\"text-align: right;\">\n",
       "      <th></th>\n",
       "      <th>name</th>\n",
       "      <th>code</th>\n",
       "      <th>num_speakers</th>\n",
       "      <th>family</th>\n",
       "      <th>branch</th>\n",
       "      <th>url</th>\n",
       "      <th>description</th>\n",
       "      <th>note</th>\n",
       "      <th>name_native</th>\n",
       "      <th>is_natural</th>\n",
       "      <th>is_active</th>\n",
       "    </tr>\n",
       "  </thead>\n",
       "  <tbody>\n",
       "    <tr>\n",
       "      <th>0</th>\n",
       "      <td>Mandarin Chinese</td>\n",
       "      <td>zh</td>\n",
       "      <td>939.0</td>\n",
       "      <td>Sino-Tibetan</td>\n",
       "      <td>Sinitic</td>\n",
       "      <td>https://en.wikipedia.org/wiki/Mandarin_Chinese</td>\n",
       "      <td>NaN</td>\n",
       "      <td>NaN</td>\n",
       "      <td>中文 汉语</td>\n",
       "      <td>1.0</td>\n",
       "      <td>0.0</td>\n",
       "    </tr>\n",
       "    <tr>\n",
       "      <th>1</th>\n",
       "      <td>Spanish</td>\n",
       "      <td>es</td>\n",
       "      <td>485.0</td>\n",
       "      <td>Indo-European</td>\n",
       "      <td>Romance</td>\n",
       "      <td>https://en.wikipedia.org/wiki/ISO_639:spa</td>\n",
       "      <td>NaN</td>\n",
       "      <td>NaN</td>\n",
       "      <td>español</td>\n",
       "      <td>1.0</td>\n",
       "      <td>0.0</td>\n",
       "    </tr>\n",
       "    <tr>\n",
       "      <th>2</th>\n",
       "      <td>English</td>\n",
       "      <td>en</td>\n",
       "      <td>380.0</td>\n",
       "      <td>Indo-European</td>\n",
       "      <td>Germanic</td>\n",
       "      <td>https://en.wikipedia.org/wiki/ISO_639:eng</td>\n",
       "      <td>NaN</td>\n",
       "      <td>NaN</td>\n",
       "      <td>English</td>\n",
       "      <td>1.0</td>\n",
       "      <td>0.0</td>\n",
       "    </tr>\n",
       "    <tr>\n",
       "      <th>3</th>\n",
       "      <td>Russian</td>\n",
       "      <td>ru</td>\n",
       "      <td>147.0</td>\n",
       "      <td>Indo-European</td>\n",
       "      <td>Balto-Slavic</td>\n",
       "      <td>https://en.wikipedia.org/wiki/ISO_639:rus</td>\n",
       "      <td>NaN</td>\n",
       "      <td>NaN</td>\n",
       "      <td>русский язык</td>\n",
       "      <td>1.0</td>\n",
       "      <td>0.0</td>\n",
       "    </tr>\n",
       "    <tr>\n",
       "      <th>4</th>\n",
       "      <td>French</td>\n",
       "      <td>fr</td>\n",
       "      <td>80.8</td>\n",
       "      <td>Indo-European</td>\n",
       "      <td>Romance</td>\n",
       "      <td>https://en.wikipedia.org/wiki/ISO_639:fra</td>\n",
       "      <td>NaN</td>\n",
       "      <td>NaN</td>\n",
       "      <td>français</td>\n",
       "      <td>1.0</td>\n",
       "      <td>0.0</td>\n",
       "    </tr>\n",
       "    <tr>\n",
       "      <th>5</th>\n",
       "      <td>Arabic</td>\n",
       "      <td>ar</td>\n",
       "      <td>NaN</td>\n",
       "      <td>NaN</td>\n",
       "      <td>NaN</td>\n",
       "      <td>https://en.wikipedia.org/wiki/Arabic</td>\n",
       "      <td>NaN</td>\n",
       "      <td>NaN</td>\n",
       "      <td>العربية</td>\n",
       "      <td>1.0</td>\n",
       "      <td>0.0</td>\n",
       "    </tr>\n",
       "    <tr>\n",
       "      <th>6</th>\n",
       "      <td>Python</td>\n",
       "      <td>python</td>\n",
       "      <td>2.0</td>\n",
       "      <td>System</td>\n",
       "      <td>scripting</td>\n",
       "      <td>https://www.python.org/</td>\n",
       "      <td>NaN</td>\n",
       "      <td>NaN</td>\n",
       "      <td>NaN</td>\n",
       "      <td>0.0</td>\n",
       "      <td>0.0</td>\n",
       "    </tr>\n",
       "    <tr>\n",
       "      <th>7</th>\n",
       "      <td>Java</td>\n",
       "      <td>java</td>\n",
       "      <td>NaN</td>\n",
       "      <td>System</td>\n",
       "      <td>compiled</td>\n",
       "      <td>https://en.wikipedia.org/wiki/Java_(programmin...</td>\n",
       "      <td>NaN</td>\n",
       "      <td>NaN</td>\n",
       "      <td>NaN</td>\n",
       "      <td>NaN</td>\n",
       "      <td>NaN</td>\n",
       "    </tr>\n",
       "  </tbody>\n",
       "</table>\n",
       "</div>"
      ],
      "text/plain": [
       "               name    code  num_speakers         family        branch  \\\n",
       "0  Mandarin Chinese      zh         939.0   Sino-Tibetan       Sinitic   \n",
       "1           Spanish      es         485.0  Indo-European       Romance   \n",
       "2           English      en         380.0  Indo-European      Germanic   \n",
       "3           Russian      ru         147.0  Indo-European  Balto-Slavic   \n",
       "4            French      fr          80.8  Indo-European       Romance   \n",
       "5            Arabic      ar           NaN            NaN           NaN   \n",
       "6            Python  python           2.0         System     scripting   \n",
       "7              Java    java           NaN         System      compiled   \n",
       "\n",
       "                                                 url description note  \\\n",
       "0     https://en.wikipedia.org/wiki/Mandarin_Chinese         NaN  NaN   \n",
       "1          https://en.wikipedia.org/wiki/ISO_639:spa         NaN  NaN   \n",
       "2          https://en.wikipedia.org/wiki/ISO_639:eng         NaN  NaN   \n",
       "3          https://en.wikipedia.org/wiki/ISO_639:rus         NaN  NaN   \n",
       "4          https://en.wikipedia.org/wiki/ISO_639:fra         NaN  NaN   \n",
       "5               https://en.wikipedia.org/wiki/Arabic         NaN  NaN   \n",
       "6                            https://www.python.org/         NaN  NaN   \n",
       "7  https://en.wikipedia.org/wiki/Java_(programmin...         NaN  NaN   \n",
       "\n",
       "    name_native  is_natural  is_active  \n",
       "0         中文 汉语         1.0        0.0  \n",
       "1       español         1.0        0.0  \n",
       "2       English         1.0        0.0  \n",
       "3  русский язык         1.0        0.0  \n",
       "4      français         1.0        0.0  \n",
       "5       العربية         1.0        0.0  \n",
       "6           NaN         0.0        0.0  \n",
       "7           NaN         NaN        NaN  "
      ]
     },
     "execution_count": 18,
     "metadata": {},
     "output_type": "execute_result"
    }
   ],
   "source": [
    "df"
   ]
  },
  {
   "cell_type": "code",
   "execution_count": 24,
   "id": "e69549ab",
   "metadata": {},
   "outputs": [],
   "source": [
    "conn.close()"
   ]
  },
  {
   "cell_type": "code",
   "execution_count": null,
   "id": "8f6fdc67",
   "metadata": {},
   "outputs": [],
   "source": []
  }
 ],
 "metadata": {
  "kernelspec": {
   "display_name": "Python 3 (ipykernel)",
   "language": "python",
   "name": "python3"
  },
  "language_info": {
   "codemirror_mode": {
    "name": "ipython",
    "version": 3
   },
   "file_extension": ".py",
   "mimetype": "text/x-python",
   "name": "python",
   "nbconvert_exporter": "python",
   "pygments_lexer": "ipython3",
   "version": "3.9.13"
  },
  "nbTranslate": {
   "displayLangs": [
    "*"
   ],
   "hotkey": "alt-t",
   "langInMainMenu": true,
   "sourceLang": "en",
   "targetLang": "fr",
   "useGoogleTranslate": true
  },
  "toc": {
   "base_numbering": 1,
   "nav_menu": {},
   "number_sections": true,
   "sideBar": true,
   "skip_h1_title": false,
   "title_cell": "Table of Contents",
   "title_sidebar": "Contents",
   "toc_cell": false,
   "toc_position": {},
   "toc_section_display": true,
   "toc_window_display": false
  }
 },
 "nbformat": 4,
 "nbformat_minor": 5
}
