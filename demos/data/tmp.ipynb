{
 "cells": [
  {
   "cell_type": "code",
   "execution_count": 1,
   "metadata": {},
   "outputs": [],
   "source": [
    "cols = \"\"\"\n",
    "    url_twit,\n",
    "    url_fb,\n",
    "    address,\n",
    "    related_persons,\n",
    "\n",
    "    attachments ,\n",
    "    flag_active ,\n",
    "    added_at ,\n",
    "    edited_at ,\n",
    "    added_by ,\n",
    "    edited_by\n",
    "\"\"\""
   ]
  },
  {
   "cell_type": "code",
   "execution_count": 4,
   "metadata": {},
   "outputs": [
    {
     "name": "stdout",
     "output_type": "stream",
     "text": [
      "['url_twit', 'url_fb', 'address', 'related_persons', 'attachments', 'flag_active', 'added_at', 'edited_at', 'added_by', 'edited_by']\n"
     ]
    }
   ],
   "source": [
    "print([c.strip() for c in cols.split(\",\") if c.strip()])"
   ]
  },
  {
   "cell_type": "code",
   "execution_count": 1,
   "metadata": {},
   "outputs": [],
   "source": [
    "import re"
   ]
  },
  {
   "cell_type": "code",
   "execution_count": 4,
   "metadata": {},
   "outputs": [],
   "source": [
    "_BAD_SQL = re.compile('\\s*(drop|delete)\\s+')"
   ]
  },
  {
   "cell_type": "code",
   "execution_count": 14,
   "metadata": {},
   "outputs": [
    {
     "data": {
      "text/plain": [
       "[]"
      ]
     },
     "execution_count": 14,
     "metadata": {},
     "output_type": "execute_result"
    }
   ],
   "source": [
    "_BAD_SQL.findall(\"   DROP-box table abc; Deleted from xyz;\".lower())"
   ]
  },
  {
   "cell_type": "code",
   "execution_count": 1,
   "metadata": {},
   "outputs": [
    {
     "data": {
      "text/plain": [
       "'SILJ,GDX,AXU,EXK,DBA,WEAT,KHC,TSN,UNG,FCG,XLE,XLB,URA,EWA,XME'"
      ]
     },
     "execution_count": 1,
     "metadata": {},
     "output_type": "execute_result"
    }
   ],
   "source": [
    "tickers = \"\"\"\n",
    "SILJ\n",
    "GDX\n",
    "AXU\n",
    "EXK\n",
    "\n",
    "DBA\n",
    "WEAT\n",
    "KHC\n",
    "TSN\n",
    "\n",
    "UNG\n",
    "FCG\n",
    "XLE\n",
    "\n",
    "XLB\n",
    "URA\n",
    "EWA\n",
    "XME\n",
    "\"\"\"\n",
    "x = \",\".join([t.strip() for t in tickers.split(\"\\n\") if t.strip()])\n",
    "x"
   ]
  },
  {
   "cell_type": "code",
   "execution_count": 2,
   "metadata": {},
   "outputs": [],
   "source": [
    "from pathlib import Path"
   ]
  },
  {
   "cell_type": "code",
   "execution_count": 3,
   "metadata": {},
   "outputs": [],
   "source": [
    "CHART_ROOT = Path.home() / \"charts\""
   ]
  },
  {
   "cell_type": "code",
   "execution_count": 4,
   "metadata": {},
   "outputs": [
    {
     "data": {
      "text/plain": [
       "WindowsPath('C:/Users/w_gon/charts')"
      ]
     },
     "execution_count": 4,
     "metadata": {},
     "output_type": "execute_result"
    }
   ],
   "source": [
    "CHART_ROOT"
   ]
  },
  {
   "cell_type": "code",
   "execution_count": 5,
   "metadata": {},
   "outputs": [
    {
     "data": {
      "text/plain": [
       "True"
      ]
     },
     "execution_count": 5,
     "metadata": {},
     "output_type": "execute_result"
    }
   ],
   "source": [
    "Path.exists(CHART_ROOT)"
   ]
  },
  {
   "cell_type": "code",
   "execution_count": 8,
   "metadata": {},
   "outputs": [],
   "source": [
    "tmpDir = Path.joinpath(CHART_ROOT, \"tmp\")"
   ]
  },
  {
   "cell_type": "code",
   "execution_count": 9,
   "metadata": {},
   "outputs": [],
   "source": [
    "if not Path.exists(tmpDir):\n",
    "    Path.mkdir(tmpDir)"
   ]
  },
  {
   "cell_type": "code",
   "execution_count": 10,
   "metadata": {},
   "outputs": [
    {
     "data": {
      "text/plain": [
       "True"
      ]
     },
     "execution_count": 10,
     "metadata": {},
     "output_type": "execute_result"
    }
   ],
   "source": [
    "Path.exists(tmpDir)"
   ]
  },
  {
   "cell_type": "code",
   "execution_count": 16,
   "metadata": {},
   "outputs": [
    {
     "data": {
      "text/plain": [
       "[WindowsPath('C:/Users/w_gon/charts/GDX.png'),\n",
       " WindowsPath('C:/Users/w_gon/charts/QQQ.png'),\n",
       " WindowsPath('C:/Users/w_gon/charts/SPY.png')]"
      ]
     },
     "execution_count": 16,
     "metadata": {},
     "output_type": "execute_result"
    }
   ],
   "source": [
    "list(Path(CHART_ROOT).glob(\"*.png\"))"
   ]
  },
  {
   "cell_type": "code",
   "execution_count": 15,
   "metadata": {},
   "outputs": [
    {
     "name": "stdout",
     "output_type": "stream",
     "text": [
      "QQQ\n",
      "SPY\n"
     ]
    }
   ],
   "source": [
    "for i in Path(CHART_ROOT).glob(\"*.png\"):\n",
    "    print(i.stem)"
   ]
  },
  {
   "cell_type": "code",
   "execution_count": 21,
   "metadata": {},
   "outputs": [
    {
     "data": {
      "text/plain": [
       "['GDX', 'QQQ', 'SPY']"
      ]
     },
     "execution_count": 21,
     "metadata": {},
     "output_type": "execute_result"
    }
   ],
   "source": [
    "tickers = sorted([f.stem for f in Path(CHART_ROOT).glob(\"*.png\")])\n",
    "tickers"
   ]
  },
  {
   "cell_type": "code",
   "execution_count": 19,
   "metadata": {},
   "outputs": [
    {
     "data": {
      "text/plain": [
       "[]"
      ]
     },
     "execution_count": 19,
     "metadata": {},
     "output_type": "execute_result"
    }
   ],
   "source": [
    "list(Path(CHART_ROOT).glob(\".png\"))"
   ]
  },
  {
   "cell_type": "code",
   "execution_count": 22,
   "metadata": {},
   "outputs": [
    {
     "data": {
      "text/html": [
       "<div>\n",
       "<style scoped>\n",
       "    .dataframe tbody tr th:only-of-type {\n",
       "        vertical-align: middle;\n",
       "    }\n",
       "\n",
       "    .dataframe tbody tr th {\n",
       "        vertical-align: top;\n",
       "    }\n",
       "\n",
       "    .dataframe thead th {\n",
       "        text-align: right;\n",
       "    }\n",
       "</style>\n",
       "<table border=\"1\" class=\"dataframe\">\n",
       "  <thead>\n",
       "    <tr style=\"text-align: right;\">\n",
       "      <th></th>\n",
       "      <th>a</th>\n",
       "      <th>b</th>\n",
       "      <th>c</th>\n",
       "      <th>d</th>\n",
       "    </tr>\n",
       "  </thead>\n",
       "  <tbody>\n",
       "    <tr>\n",
       "      <th>0</th>\n",
       "      <td>1</td>\n",
       "      <td>2</td>\n",
       "      <td>3</td>\n",
       "      <td>4</td>\n",
       "    </tr>\n",
       "    <tr>\n",
       "      <th>1</th>\n",
       "      <td>5</td>\n",
       "      <td>6</td>\n",
       "      <td>7</td>\n",
       "      <td>8</td>\n",
       "    </tr>\n",
       "    <tr>\n",
       "      <th>2</th>\n",
       "      <td>9</td>\n",
       "      <td>10</td>\n",
       "      <td>11</td>\n",
       "      <td>12</td>\n",
       "    </tr>\n",
       "  </tbody>\n",
       "</table>\n",
       "</div>"
      ],
      "text/plain": [
       "   a   b   c   d\n",
       "0  1   2   3   4\n",
       "1  5   6   7   8\n",
       "2  9  10  11  12"
      ]
     },
     "execution_count": 22,
     "metadata": {},
     "output_type": "execute_result"
    }
   ],
   "source": [
    "import pandas as pd\n",
    "import numpy as np\n",
    "data = np.arange(1,13)\n",
    "data = data.reshape(3,4)\n",
    "df = pd.DataFrame(data=data,columns=['a','b','c','d'])\n",
    "df"
   ]
  },
  {
   "cell_type": "code",
   "execution_count": 23,
   "metadata": {},
   "outputs": [],
   "source": [
    "df[\"b_u\"] = df[\"b\"] + 2\n",
    "df[\"b_d\"] = df[\"b\"] - 2"
   ]
  },
  {
   "cell_type": "code",
   "execution_count": 24,
   "metadata": {},
   "outputs": [
    {
     "data": {
      "text/html": [
       "<div>\n",
       "<style scoped>\n",
       "    .dataframe tbody tr th:only-of-type {\n",
       "        vertical-align: middle;\n",
       "    }\n",
       "\n",
       "    .dataframe tbody tr th {\n",
       "        vertical-align: top;\n",
       "    }\n",
       "\n",
       "    .dataframe thead th {\n",
       "        text-align: right;\n",
       "    }\n",
       "</style>\n",
       "<table border=\"1\" class=\"dataframe\">\n",
       "  <thead>\n",
       "    <tr style=\"text-align: right;\">\n",
       "      <th></th>\n",
       "      <th>a</th>\n",
       "      <th>b</th>\n",
       "      <th>c</th>\n",
       "      <th>d</th>\n",
       "      <th>b_u</th>\n",
       "      <th>b_d</th>\n",
       "    </tr>\n",
       "  </thead>\n",
       "  <tbody>\n",
       "    <tr>\n",
       "      <th>0</th>\n",
       "      <td>1</td>\n",
       "      <td>2</td>\n",
       "      <td>3</td>\n",
       "      <td>4</td>\n",
       "      <td>4</td>\n",
       "      <td>0</td>\n",
       "    </tr>\n",
       "    <tr>\n",
       "      <th>1</th>\n",
       "      <td>5</td>\n",
       "      <td>6</td>\n",
       "      <td>7</td>\n",
       "      <td>8</td>\n",
       "      <td>8</td>\n",
       "      <td>4</td>\n",
       "    </tr>\n",
       "    <tr>\n",
       "      <th>2</th>\n",
       "      <td>9</td>\n",
       "      <td>10</td>\n",
       "      <td>11</td>\n",
       "      <td>12</td>\n",
       "      <td>12</td>\n",
       "      <td>8</td>\n",
       "    </tr>\n",
       "  </tbody>\n",
       "</table>\n",
       "</div>"
      ],
      "text/plain": [
       "   a   b   c   d  b_u  b_d\n",
       "0  1   2   3   4    4    0\n",
       "1  5   6   7   8    8    4\n",
       "2  9  10  11  12   12    8"
      ]
     },
     "execution_count": 24,
     "metadata": {},
     "output_type": "execute_result"
    }
   ],
   "source": [
    "df"
   ]
  },
  {
   "cell_type": "code",
   "execution_count": 32,
   "metadata": {},
   "outputs": [
    {
     "data": {
      "text/plain": [
       "12"
      ]
     },
     "execution_count": 32,
     "metadata": {},
     "output_type": "execute_result"
    }
   ],
   "source": [
    "df.max(axis=0)[['b','b_u', 'b_d']].max()"
   ]
  },
  {
   "cell_type": "code",
   "execution_count": 31,
   "metadata": {},
   "outputs": [
    {
     "data": {
      "text/plain": [
       "pandas.core.series.Series"
      ]
     },
     "execution_count": 31,
     "metadata": {},
     "output_type": "execute_result"
    }
   ],
   "source": [
    "type(df.max(axis=0)[['b','b_u', 'b_d']])"
   ]
  },
  {
   "cell_type": "code",
   "execution_count": 1,
   "metadata": {},
   "outputs": [],
   "source": [
    "import pandas as pd"
   ]
  },
  {
   "cell_type": "code",
   "execution_count": 2,
   "metadata": {},
   "outputs": [],
   "source": [
    "df = pd.DataFrame({'col1': [1, 2],\n",
    "                   'col2': [0.5, 0.75]},\n",
    "                  index=['row1', 'row2'])"
   ]
  },
  {
   "cell_type": "code",
   "execution_count": 3,
   "metadata": {},
   "outputs": [
    {
     "data": {
      "text/html": [
       "<div>\n",
       "<style scoped>\n",
       "    .dataframe tbody tr th:only-of-type {\n",
       "        vertical-align: middle;\n",
       "    }\n",
       "\n",
       "    .dataframe tbody tr th {\n",
       "        vertical-align: top;\n",
       "    }\n",
       "\n",
       "    .dataframe thead th {\n",
       "        text-align: right;\n",
       "    }\n",
       "</style>\n",
       "<table border=\"1\" class=\"dataframe\">\n",
       "  <thead>\n",
       "    <tr style=\"text-align: right;\">\n",
       "      <th></th>\n",
       "      <th>col1</th>\n",
       "      <th>col2</th>\n",
       "    </tr>\n",
       "  </thead>\n",
       "  <tbody>\n",
       "    <tr>\n",
       "      <th>row1</th>\n",
       "      <td>1</td>\n",
       "      <td>0.50</td>\n",
       "    </tr>\n",
       "    <tr>\n",
       "      <th>row2</th>\n",
       "      <td>2</td>\n",
       "      <td>0.75</td>\n",
       "    </tr>\n",
       "  </tbody>\n",
       "</table>\n",
       "</div>"
      ],
      "text/plain": [
       "      col1  col2\n",
       "row1     1  0.50\n",
       "row2     2  0.75"
      ]
     },
     "execution_count": 3,
     "metadata": {},
     "output_type": "execute_result"
    }
   ],
   "source": [
    "df"
   ]
  },
  {
   "cell_type": "code",
   "execution_count": 17,
   "metadata": {},
   "outputs": [
    {
     "data": {
      "text/plain": [
       "pandas.core.series.Series"
      ]
     },
     "execution_count": 17,
     "metadata": {},
     "output_type": "execute_result"
    }
   ],
   "source": [
    "type(df.iloc[-1,:])"
   ]
  },
  {
   "cell_type": "code",
   "execution_count": 20,
   "metadata": {},
   "outputs": [
    {
     "data": {
      "text/plain": [
       "('row2', {'col1': 2.0, 'col2': 0.75})"
      ]
     },
     "execution_count": 20,
     "metadata": {},
     "output_type": "execute_result"
    }
   ],
   "source": [
    "df.iloc[-1,:].name, df.iloc[-1,:].to_dict()"
   ]
  },
  {
   "cell_type": "code",
   "execution_count": 10,
   "metadata": {},
   "outputs": [
    {
     "data": {
      "text/plain": [
       "{'row1': {'col1': 1, 'col2': 0.5}, 'row2': {'col1': 2, 'col2': 0.75}}"
      ]
     },
     "execution_count": 10,
     "metadata": {},
     "output_type": "execute_result"
    }
   ],
   "source": [
    "df.to_dict('index')"
   ]
  },
  {
   "cell_type": "code",
   "execution_count": 21,
   "metadata": {},
   "outputs": [],
   "source": [
    "def _load_etf_df():\n",
    "    # etf_df = pd.read_csv(\"./data/wl_futures_etf.csv\")\n",
    "    etf_data = [\n",
    "        {'symbol': 'SPY', 'name': 'S&P 500', 'sector': 'Equity Index', 'order': 0.1} ,\n",
    "        {'symbol': 'QQQ', 'name': 'Nasdaq 100', 'sector': 'Equity Index', 'order': 0.2} ,\n",
    "        {'symbol': 'DIA', 'name': 'Dow 30', 'sector': 'Equity Index', 'order': 0.3} ,\n",
    "        {'symbol': 'IWM', 'name': 'Russell 2000', 'sector': 'Equity Index', 'order': 0.4} ,\n",
    "        {'symbol': 'SDS', 'name': 'Short S&P 500', 'sector': 'Equity Index', 'order': 0.7} ,\n",
    "        {'symbol': 'QID', 'name': 'Short Nasdaq 100', 'sector': 'Equity Index', 'order': 0.8} ,\n",
    "        {'symbol': 'DXD', 'name': 'Short Dow 30', 'sector': 'Equity Index', 'order': 0.9} ,\n",
    "        {'symbol': 'XLE', 'name': 'Energy', 'sector': 'Sector', 'order': 1.001} ,\n",
    "        {'symbol': 'XME', 'name': 'Metal', 'sector': 'Sector', 'order': 1.002} ,\n",
    "        {'symbol': 'XLK', 'name': 'Technology', 'sector': 'Sector', 'order': 1.01} ,\n",
    "        {'symbol': 'XLF', 'name': 'Financials', 'sector': 'Sector', 'order': 1.02} ,\n",
    "        {'symbol': 'XLV', 'name': 'Health-care', 'sector': 'Sector', 'order': 1.03} ,\n",
    "        {'symbol': 'XLI', 'name': 'Industrials', 'sector': 'Sector', 'order': 1.04} ,\n",
    "        {'symbol': 'XLB', 'name': 'Materials', 'sector': 'Sector', 'order': 1.05} ,\n",
    "        {'symbol': 'XLP', 'name': 'Consumer Staples', 'sector': 'Sector', 'order': 1.06} ,\n",
    "        {'symbol': 'XLY', 'name': 'Consumer Discretionary', 'sector': 'Sector', 'order': 1.07} ,\n",
    "        {'symbol': 'XLC', 'name': 'Communication Services', 'sector': 'Sector', 'order': 1.08} ,\n",
    "        {'symbol': 'XLU', 'name': 'Utilities', 'sector': 'Sector', 'order': 1.09} ,\n",
    "        {'symbol': 'XLRE', 'name': 'Real Estate', 'sector': 'Sector', 'order': 1.11} ,\n",
    "        {'symbol': 'VGT', 'name': 'Vanguard IT', 'sector': 'Technology', 'order': 2.1} ,\n",
    "        {'symbol': 'CLOU', 'name': 'Global X Cloud Computing', 'sector': 'Technology', 'order': 2.2} ,\n",
    "        {'symbol': 'IGV', 'name': 'Tech-Software', 'sector': 'Technology', 'order': 2.3} ,\n",
    "        {'symbol': 'SMH', 'name': 'Semiconductor Index', 'sector': 'Technology', 'order': 2.4} ,\n",
    "        {'symbol': 'UUP', 'name': 'US Dollar', 'sector': 'Currency', 'order': 3.01} ,\n",
    "        {'symbol': 'CYB', 'name': 'China Yuan', 'sector': 'Currency', 'order': 3.02} ,\n",
    "        {'symbol': 'FXE', 'name': 'Euro', 'sector': 'Currency', 'order': 3.03} ,\n",
    "        {'symbol': 'FXY', 'name': 'Japan Yen', 'sector': 'Currency', 'order': 3.04} ,\n",
    "        {'symbol': 'UDN', 'name': 'US Dollar - Short', 'sector': 'Currency', 'order': 3.09} ,\n",
    "        {'symbol': 'BITO', 'name': 'ProShares Bitcoin Strategy', 'sector': 'Currency', 'order': 3.11} ,\n",
    "        {'symbol': 'USO', 'name': 'United States Oil Fund LP', 'sector': 'Energy', 'order': 4.01} ,\n",
    "        {'symbol': 'BNO', 'name': 'United States Brent Oil Fund LP', 'sector': 'Energy', 'order': 4.02} ,\n",
    "        {'symbol': 'DBO', 'name': 'Invesco DB Oil Fund', 'sector': 'Energy', 'order': 4.03} ,\n",
    "        {'symbol': 'UNG', 'name': 'United States Natural Gas Fund LP', 'sector': 'Energy', 'order': 4.05} ,\n",
    "        {'symbol': 'BOIL', 'name': 'ProShares Ultra Bloomberg Natural Gas', 'sector': 'Energy', 'order': 4.06} ,\n",
    "        {'symbol': 'GRN', 'name': 'iPath Series B Carbon ETN', 'sector': 'Energy-Clean', 'order': 4.11} ,\n",
    "        {'symbol': 'ICLN', 'name': 'iShares Global Clean Energy', 'sector': 'Energy-Clean', 'order': 4.12} ,\n",
    "        {'symbol': 'GSG', 'name': 'iShares S&P GSCI Commodity-Indexed Trust', 'sector': 'Commodity', 'order': 5.1} ,\n",
    "        {'symbol': 'DBC', 'name': 'Invesco DB Commodity Index Tracking Fund', 'sector': 'Commodity', 'order': 5.2} ,\n",
    "        {'symbol': 'GLD', 'name': 'Gold', 'sector': 'Metal', 'order': 6.1} ,\n",
    "        {'symbol': 'SLV', 'name': 'Silver', 'sector': 'Metal', 'order': 6.2} ,\n",
    "        {'symbol': 'GDX', 'name': 'Gold miner', 'sector': 'Metal', 'order': 6.3} ,\n",
    "        {'symbol': 'SILJ', 'name': 'Silver miner', 'sector': 'Metal', 'order': 6.4} ,\n",
    "        {'symbol': 'COPX', 'name': 'Copper Fund', 'sector': 'Metal', 'order': 6.5} ,\n",
    "        {'symbol': 'URA', 'name': 'Global X Uranium', 'sector': 'Metal', 'order': 6.6} ,\n",
    "        {'symbol': 'PALL', 'name': 'Palladium', 'sector': 'Metal', 'order': 6.7} ,\n",
    "        {'symbol': 'LIT', 'name': 'Global X Lithium & Battery Tech ', 'sector': 'Metal', 'order': 6.8} ,\n",
    "        {'symbol': 'DBA', 'name': 'Invesco DB Agriculture Fund', 'sector': 'Agri', 'order': 7.01} ,\n",
    "        {'symbol': 'MOO', 'name': 'VanEck Vectors Agribusiness', 'sector': 'Agri', 'order': 7.02} ,\n",
    "        {'symbol': 'RJA', 'name': 'Elements Agriculture', 'sector': 'Agri', 'order': 7.03} ,\n",
    "        {'symbol': 'CORN', 'name': 'Teucrium Corn Fund', 'sector': 'Agri', 'order': 7.05} ,\n",
    "        {'symbol': 'WEAT', 'name': 'Teucrium Wheat Fund', 'sector': 'Agri', 'order': 7.06} ,\n",
    "        {'symbol': 'COW', 'name': 'iPath Bloomberg Livestock', 'sector': 'Agri', 'order': 7.07} ,\n",
    "        {'symbol': 'JO', 'name': 'iPath Bloomberg Coffee Subindex', 'sector': 'Agri', 'order': 7.08} ,\n",
    "        {'symbol': 'WOOD', 'name': 'iShares Global Timber & Forestry', 'sector': 'Agri', 'order': 7.09} ,\n",
    "        {'symbol': 'PHO', 'name': 'Invesco Water Resources', 'sector': 'Agri', 'order': 7.11} ,\n",
    "        {'symbol': 'SCHF', 'name': 'Schwab International Equity', 'sector': 'International', 'order': 10.1} ,\n",
    "        {'symbol': 'SCHC', 'name': 'Schwab International Small-Cap Equity', 'sector': 'International', 'order': 10.11} ,\n",
    "        {'symbol': 'GWX', 'name': 'SPDR S&P International Small Cap', 'sector': 'International', 'order': 10.12} ,\n",
    "        {'symbol': 'EWG', 'name': 'iShares MSCI Germany', 'sector': 'International', 'order': 10.135} ,\n",
    "        {'symbol': 'EWQ', 'name': 'iShares MSCI France', 'sector': 'International', 'order': 10.1351} ,\n",
    "        {'symbol': 'EWU', 'name': 'iShares MSCI United Kingdom', 'sector': 'International', 'order': 10.1352} ,\n",
    "        {'symbol': 'RSX', 'name': 'VanEck Russia', 'sector': 'International', 'order': 10.1353} ,\n",
    "        {'symbol': 'SCZ', 'name': 'iShares MSCI EAFE Small-Cap', 'sector': 'International', 'order': 10.21} ,\n",
    "        {'symbol': 'EFA', 'name': 'iShares MSCI EAFE', 'sector': 'International', 'order': 10.22} ,\n",
    "        {'symbol': 'FXI', 'name': 'iShares China Large-Cap', 'sector': 'International', 'order': 10.23} ,\n",
    "        {'symbol': 'MCHI', 'name': 'iShares MSCI China', 'sector': 'International', 'order': 10.24} ,\n",
    "        {'symbol': 'KWEB', 'name': 'KraneShares CSI China Internet', 'sector': 'International', 'order': 10.25} ,\n",
    "        {'symbol': 'ASHR', 'name': 'Xtrackers Harvest CSI 300 China A-Shares', 'sector': 'International', 'order': 10.26} ,\n",
    "        {'symbol': 'EWJ', 'name': 'iShares MSCI Japan', 'sector': 'International', 'order': 10.27} ,\n",
    "        {'symbol': 'EWY', 'name': 'iShares MSCI South Korea', 'sector': 'International', 'order': 10.28} ,\n",
    "        {'symbol': 'EWT', 'name': 'iShares MSCI Taiwan', 'sector': 'International', 'order': 10.281} ,\n",
    "        {'symbol': 'INDA', 'name': 'iShares MSCI India', 'sector': 'International', 'order': 10.29} ,\n",
    "        {'symbol': 'ENZL', 'name': 'iShares MSCI New Zealand', 'sector': 'International', 'order': 10.3} ,\n",
    "        {'symbol': 'EWA', 'name': 'iShares MSCI-Australia', 'sector': 'International', 'order': 10.31} ,\n",
    "        {'symbol': 'EWC', 'name': 'iShares MSCI Canada', 'sector': 'International', 'order': 10.4} ,\n",
    "        {'symbol': 'EWW', 'name': 'iShares MSCI Mexico', 'sector': 'International', 'order': 10.41} ,\n",
    "        {'symbol': 'EWZ', 'name': 'iShares MSCI Brazil', 'sector': 'International', 'order': 10.42} ,\n",
    "        {'symbol': 'ARGT', 'name': 'Global X MSCI Argentina', 'sector': 'International', 'order': 10.43} ,\n",
    "        {'symbol': 'IZRL', 'name': 'ARK Israel Innovative Technology', 'sector': 'International', 'order': 10.6} ,\n",
    "        {'symbol': 'EIS', 'name': 'iShares MSCI Israel', 'sector': 'International', 'order': 10.61} ,\n",
    "        {'symbol': 'KSA', 'name': 'iShares MSCI Saudi Arabia', 'sector': 'International', 'order': 10.62} ,\n",
    "        {'symbol': 'TUR', 'name': 'iShares MSCI Turkey', 'sector': 'International', 'order': 10.63} ,\n",
    "        {'symbol': 'EZA', 'name': 'iShares MSCI South Africa', 'sector': 'International', 'order': 10.64} ,\n",
    "    ]\n",
    "    etf_df = pd.DataFrame.from_dict(etf_data)\n",
    "    \n",
    "    # etf_sectors = etf_df[\"sector\"].unique().tolist()\n",
    "    # manual order\n",
    "    etf_sectors = ['Equity Index',  'Sector',\n",
    "        'Currency',  'Commodity',\n",
    "        'Agri',  'Energy',  'Energy-Clean',\n",
    "        'Metal',  'Technology',\n",
    "        'International']\n",
    "\n",
    "    etf_dict = {}\n",
    "    for sect in etf_sectors:\n",
    "        sym_name = etf_df[etf_df[\"sector\"] == sect][[\"symbol\",\"name\"]]\n",
    "        etf_dict[sect] = dict(zip(sym_name.symbol, sym_name.name))\n",
    "    \n",
    "    return etf_df, etf_sectors, etf_dict"
   ]
  },
  {
   "cell_type": "code",
   "execution_count": 22,
   "metadata": {},
   "outputs": [],
   "source": [
    "etf_df, etf_sectors, etf_dict = _load_etf_df()"
   ]
  },
  {
   "cell_type": "code",
   "execution_count": 23,
   "metadata": {},
   "outputs": [
    {
     "data": {
      "text/plain": [
       "['Equity Index',\n",
       " 'Sector',\n",
       " 'Currency',\n",
       " 'Commodity',\n",
       " 'Agri',\n",
       " 'Energy',\n",
       " 'Energy-Clean',\n",
       " 'Metal',\n",
       " 'Technology',\n",
       " 'International']"
      ]
     },
     "execution_count": 23,
     "metadata": {},
     "output_type": "execute_result"
    }
   ],
   "source": [
    "etf_sectors"
   ]
  },
  {
   "cell_type": "code",
   "execution_count": 25,
   "metadata": {},
   "outputs": [
    {
     "data": {
      "text/html": [
       "<div>\n",
       "<style scoped>\n",
       "    .dataframe tbody tr th:only-of-type {\n",
       "        vertical-align: middle;\n",
       "    }\n",
       "\n",
       "    .dataframe tbody tr th {\n",
       "        vertical-align: top;\n",
       "    }\n",
       "\n",
       "    .dataframe thead th {\n",
       "        text-align: right;\n",
       "    }\n",
       "</style>\n",
       "<table border=\"1\" class=\"dataframe\">\n",
       "  <thead>\n",
       "    <tr style=\"text-align: right;\">\n",
       "      <th></th>\n",
       "      <th>symbol</th>\n",
       "      <th>name</th>\n",
       "      <th>sector</th>\n",
       "      <th>order</th>\n",
       "    </tr>\n",
       "  </thead>\n",
       "  <tbody>\n",
       "    <tr>\n",
       "      <th>0</th>\n",
       "      <td>SPY</td>\n",
       "      <td>S&amp;P 500</td>\n",
       "      <td>Equity Index</td>\n",
       "      <td>0.10</td>\n",
       "    </tr>\n",
       "    <tr>\n",
       "      <th>1</th>\n",
       "      <td>QQQ</td>\n",
       "      <td>Nasdaq 100</td>\n",
       "      <td>Equity Index</td>\n",
       "      <td>0.20</td>\n",
       "    </tr>\n",
       "    <tr>\n",
       "      <th>2</th>\n",
       "      <td>DIA</td>\n",
       "      <td>Dow 30</td>\n",
       "      <td>Equity Index</td>\n",
       "      <td>0.30</td>\n",
       "    </tr>\n",
       "    <tr>\n",
       "      <th>3</th>\n",
       "      <td>IWM</td>\n",
       "      <td>Russell 2000</td>\n",
       "      <td>Equity Index</td>\n",
       "      <td>0.40</td>\n",
       "    </tr>\n",
       "    <tr>\n",
       "      <th>4</th>\n",
       "      <td>SDS</td>\n",
       "      <td>Short S&amp;P 500</td>\n",
       "      <td>Equity Index</td>\n",
       "      <td>0.70</td>\n",
       "    </tr>\n",
       "    <tr>\n",
       "      <th>...</th>\n",
       "      <td>...</td>\n",
       "      <td>...</td>\n",
       "      <td>...</td>\n",
       "      <td>...</td>\n",
       "    </tr>\n",
       "    <tr>\n",
       "      <th>78</th>\n",
       "      <td>IZRL</td>\n",
       "      <td>ARK Israel Innovative Technology</td>\n",
       "      <td>International</td>\n",
       "      <td>10.60</td>\n",
       "    </tr>\n",
       "    <tr>\n",
       "      <th>79</th>\n",
       "      <td>EIS</td>\n",
       "      <td>iShares MSCI Israel</td>\n",
       "      <td>International</td>\n",
       "      <td>10.61</td>\n",
       "    </tr>\n",
       "    <tr>\n",
       "      <th>80</th>\n",
       "      <td>KSA</td>\n",
       "      <td>iShares MSCI Saudi Arabia</td>\n",
       "      <td>International</td>\n",
       "      <td>10.62</td>\n",
       "    </tr>\n",
       "    <tr>\n",
       "      <th>81</th>\n",
       "      <td>TUR</td>\n",
       "      <td>iShares MSCI Turkey</td>\n",
       "      <td>International</td>\n",
       "      <td>10.63</td>\n",
       "    </tr>\n",
       "    <tr>\n",
       "      <th>82</th>\n",
       "      <td>EZA</td>\n",
       "      <td>iShares MSCI South Africa</td>\n",
       "      <td>International</td>\n",
       "      <td>10.64</td>\n",
       "    </tr>\n",
       "  </tbody>\n",
       "</table>\n",
       "<p>83 rows × 4 columns</p>\n",
       "</div>"
      ],
      "text/plain": [
       "   symbol                              name         sector  order\n",
       "0     SPY                           S&P 500   Equity Index   0.10\n",
       "1     QQQ                        Nasdaq 100   Equity Index   0.20\n",
       "2     DIA                            Dow 30   Equity Index   0.30\n",
       "3     IWM                      Russell 2000   Equity Index   0.40\n",
       "4     SDS                     Short S&P 500   Equity Index   0.70\n",
       "..    ...                               ...            ...    ...\n",
       "78   IZRL  ARK Israel Innovative Technology  International  10.60\n",
       "79    EIS               iShares MSCI Israel  International  10.61\n",
       "80    KSA         iShares MSCI Saudi Arabia  International  10.62\n",
       "81    TUR               iShares MSCI Turkey  International  10.63\n",
       "82    EZA         iShares MSCI South Africa  International  10.64\n",
       "\n",
       "[83 rows x 4 columns]"
      ]
     },
     "execution_count": 25,
     "metadata": {},
     "output_type": "execute_result"
    }
   ],
   "source": [
    "etf_df"
   ]
  },
  {
   "cell_type": "code",
   "execution_count": 30,
   "metadata": {},
   "outputs": [
    {
     "data": {
      "text/plain": [
       "'SPY,QQQ,DIA,IWM,SDS,QID,DXD,XLE,XME,XLK,XLF,XLV,XLI,XLB,XLP,XLY,XLC,XLU,XLRE'"
      ]
     },
     "execution_count": 30,
     "metadata": {},
     "output_type": "execute_result"
    }
   ],
   "source": [
    "\",\".join(etf_df[etf_df[\"sector\"].isin(['Equity Index', 'Sector'])][\"symbol\"].to_list())"
   ]
  },
  {
   "cell_type": "code",
   "execution_count": 33,
   "metadata": {},
   "outputs": [
    {
     "data": {
      "text/plain": [
       "'GSG,DBC,GLD,SLV,GDX,SILJ,COPX,URA,PALL,LIT,DBA,MOO,RJA,CORN,WEAT,COW,JO,WOOD,PHO'"
      ]
     },
     "execution_count": 33,
     "metadata": {},
     "output_type": "execute_result"
    }
   ],
   "source": [
    "\",\".join(etf_df[etf_df[\"sector\"].isin(['Commodity','Agri','Metal'])][\"symbol\"].to_list())"
   ]
  },
  {
   "cell_type": "code",
   "execution_count": 34,
   "metadata": {},
   "outputs": [
    {
     "data": {
      "text/plain": [
       "'SCHF,SCHC,GWX,EWG,EWQ,EWU,RSX,SCZ,EFA,FXI,MCHI,KWEB,ASHR,EWJ,EWY,EWT,INDA,ENZL,EWA,EWC,EWW,EWZ,ARGT,IZRL,EIS,KSA,TUR,EZA'"
      ]
     },
     "execution_count": 34,
     "metadata": {},
     "output_type": "execute_result"
    }
   ],
   "source": [
    "\",\".join(etf_df[etf_df[\"sector\"].isin(['International'])][\"symbol\"].to_list())"
   ]
  },
  {
   "cell_type": "code",
   "execution_count": 35,
   "metadata": {},
   "outputs": [
    {
     "data": {
      "text/plain": [
       "'VGT,CLOU,IGV,SMH,USO,BNO,DBO,UNG,BOIL,GRN,ICLN'"
      ]
     },
     "execution_count": 35,
     "metadata": {},
     "output_type": "execute_result"
    }
   ],
   "source": [
    "\",\".join(etf_df[etf_df[\"sector\"].isin(['Energy','Energy-Clean','Technology'])][\"symbol\"].to_list())"
   ]
  },
  {
   "cell_type": "code",
   "execution_count": null,
   "metadata": {},
   "outputs": [],
   "source": []
  }
 ],
 "metadata": {
  "kernelspec": {
   "display_name": "Python 3",
   "language": "python",
   "name": "python3"
  },
  "language_info": {
   "codemirror_mode": {
    "name": "ipython",
    "version": 3
   },
   "file_extension": ".py",
   "mimetype": "text/x-python",
   "name": "python",
   "nbconvert_exporter": "python",
   "pygments_lexer": "ipython3",
   "version": "3.8.5"
  },
  "toc": {
   "base_numbering": 1,
   "nav_menu": {},
   "number_sections": true,
   "sideBar": true,
   "skip_h1_title": false,
   "title_cell": "Table of Contents",
   "title_sidebar": "Contents",
   "toc_cell": false,
   "toc_position": {},
   "toc_section_display": true,
   "toc_window_display": false
  }
 },
 "nbformat": 4,
 "nbformat_minor": 4
}
